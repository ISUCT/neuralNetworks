{
 "cells": [
  {
   "cell_type": "code",
   "execution_count": 117,
   "metadata": {
    "collapsed": false
   },
   "outputs": [
    {
     "name": "stdout",
     "output_type": "stream",
     "text": [
      "Populating the interactive namespace from numpy and matplotlib\n"
     ]
    }
   ],
   "source": [
    "# http://iamtrask.github.io/2015/07/12/basic-python-network/\n",
    "# Данная сеть предназначена для решения достаточно простой задачи\n",
    "# использовать данные на входе для предсказания значения на выходе\n",
    "# Inputs \tOutput\n",
    "# 0 0 1 \t0\n",
    "# 1 1 1 \t1\n",
    "# 1 0 1 \t1\n",
    "# 0 1 1 \t0\n",
    "\n",
    "#для построения графиков внутри notebook'a\n",
    "%pylab inline \n",
    "import pylab as pl # библиотека для построения графиков\n",
    "import numpy as np # библиотека для осуществления вычислений"
   ]
  },
  {
   "cell_type": "code",
   "execution_count": 118,
   "metadata": {
    "collapsed": true
   },
   "outputs": [],
   "source": [
    "# sigmoid function - или функция активации нейронов\n",
    "def sigmoid(x,deriv=False): \n",
    "    if(deriv==True): # если истина  - то нам нужна производная\n",
    "        return x*(1-x) # возвращаем производную функции\n",
    "    return 1/(1+np.exp(-x)) # возвращаем функцию"
   ]
  },
  {
   "cell_type": "code",
   "execution_count": 119,
   "metadata": {
    "collapsed": true
   },
   "outputs": [],
   "source": [
    "# для примера построим график функции\n",
    "tmpX = np.arange(-5,5,0.1) "
   ]
  },
  {
   "cell_type": "code",
   "execution_count": 120,
   "metadata": {
    "collapsed": true
   },
   "outputs": [],
   "source": [
    "tmpY = sigmoid(tmpX)"
   ]
  },
  {
   "cell_type": "code",
   "execution_count": 121,
   "metadata": {
    "collapsed": false
   },
   "outputs": [
    {
     "data": {
      "image/png": "[encoded data removed]",
      "text/plain": [
       "<matplotlib.figure.Figure at 0x7f584d757cc0>"
      ]
     },
     "metadata": {},
     "output_type": "display_data"
    }
   ],
   "source": [
    "pl.plot(tmpX,tmpY)\n",
    "plt.grid()"
   ]
  },
  {
   "cell_type": "code",
   "execution_count": 122,
   "metadata": {
    "collapsed": false
   },
   "outputs": [
    {
     "name": "stdout",
     "output_type": "stream",
     "text": [
      "[[0 0 1]\n",
      " [0 1 1]\n",
      " [1 0 1]\n",
      " [1 1 1]]\n"
     ]
    }
   ],
   "source": [
    "# Входные данные 3 входа и 4 примера\n",
    "X = np.array([  [0,0,1],\n",
    "                [0,1,1],\n",
    "                [1,0,1],\n",
    "                [1,1,1] ])\n",
    "print(X)"
   ]
  },
  {
   "cell_type": "code",
   "execution_count": 123,
   "metadata": {
    "collapsed": false
   },
   "outputs": [
    {
     "name": "stdout",
     "output_type": "stream",
     "text": [
      "[[0]\n",
      " [0]\n",
      " [1]\n",
      " [1]]\n"
     ]
    }
   ],
   "source": [
    "# Выходные данные - 1 выход и 4 примера. T - транспонировать\n",
    "y = np.array([[0,0,1,1]]).T \n",
    "print(y)"
   ]
  },
  {
   "cell_type": "code",
   "execution_count": 124,
   "metadata": {
    "collapsed": true
   },
   "outputs": [],
   "source": [
    "# При генерации случаных чисел\n",
    "# использовать детерминированный подход, т.е.\n",
    "# при каждом запуске будут генерироваться \n",
    "# по одним и тем же правилам\n",
    "np.random.seed(1)"
   ]
  },
  {
   "cell_type": "code",
   "execution_count": 125,
   "metadata": {
    "collapsed": false
   },
   "outputs": [
    {
     "name": "stdout",
     "output_type": "stream",
     "text": [
      "[[-0.16595599]\n",
      " [ 0.44064899]\n",
      " [-0.99977125]]\n"
     ]
    }
   ],
   "source": [
    "# генерируем \"синапсы\" - веса связи между нейронами\n",
    "# у нас 3 входа и 1 выход - получаем 3 связи\n",
    "syn0 = 2*np.random.random((3,1)) - 1\n",
    "print(syn0)"
   ]
  },
  {
   "cell_type": "code",
   "execution_count": 126,
   "metadata": {
    "collapsed": false
   },
   "outputs": [],
   "source": [
    "errors=np.array([])\n",
    "numJ =np.array([])\n",
    "for j in range(1000):\n",
    "# forward propagation\n",
    "    # Загружаем сразу все тренировочные примеры\n",
    "    l0 = X\n",
    "    # Умножаем вход на веса\n",
    "    # это и есть попытка \"предсказать значение\"\n",
    "    # l0 - матрица 4x3 syn0 - 3x1\n",
    "    # при перемножении - размерность в середине должна совпадать 4х3 * 3х1 = 4х1\n",
    "    l1 = sigmoid(np.dot(l0,syn0))\n",
    "\n",
    "    # сравниваем с ожидаемым результатом\n",
    "    # и сохраняем ошибку\n",
    "    l1_error = y - l1\n",
    "\n",
    "    # формируем массив - номер обучения\n",
    "    # и средняя ошибка и все веса\n",
    "    # это для порсотра режима обучения\n",
    "    if (j%10==0):\n",
    "        numJ=np.append(numJ,j)\n",
    "        errors=np.append(errors,np.mean(np.abs(l1_error)))\n",
    "        # print(syn0)\n",
    "        \n",
    "    # multiply how much we missed by the \n",
    "    # slope of the sigmoid at the values in l1\n",
    "    # вычисляем разницу, но умножая на производную функции активации \n",
    "    #\n",
    "    l1_delta = l1_error * sigmoid(l1,True)\n",
    "\n",
    "    # Обновляем значения весов\n",
    "    # Самая главная часть \n",
    "    syn0 += np.dot(l0.T,l1_delta)"
   ]
  },
  {
   "cell_type": "code",
   "execution_count": 127,
   "metadata": {
    "collapsed": false
   },
   "outputs": [
    {
     "name": "stdout",
     "output_type": "stream",
     "text": [
      "[   0.  100.  200.  300.  400.  500.  600.  700.  800.  900.]\n",
      "[ 0.51720828  0.09104354  0.06193754  0.04960996  0.0424537   0.03765699\n",
      "  0.03416265  0.0314745   0.02932542  0.02755738]\n"
     ]
    },
    {
     "data": {
      "image/png": "[encoded data removed]",
      "text/plain": [
       "<matplotlib.figure.Figure at 0x7f584d6ba400>"
      ]
     },
     "metadata": {},
     "output_type": "display_data"
    }
   ],
   "source": [
    "#Нарисуем кривую изменения ошибки\n",
    "#print(numJ)\n",
    "#print(errors)\n",
    "pl.plot(numJ,errors)\n",
    "pl.grid()"
   ]
  },
  {
   "cell_type": "code",
   "execution_count": 128,
   "metadata": {
    "collapsed": false
   },
   "outputs": [
    {
     "name": "stdout",
     "output_type": "stream",
     "text": [
      "Output After Training:\n",
      "[[ 0.03178421]\n",
      " [ 0.02576499]\n",
      " [ 0.97906682]\n",
      " [ 0.97414645]]\n",
      "Synapse\n",
      "[[ 7.26283009]\n",
      " [-0.21614618]\n",
      " [-3.41703015]]\n"
     ]
    }
   ],
   "source": [
    "print (\"Output After Training:\")\n",
    "print (l1)\n",
    "print('Synapse')\n",
    "print(syn0)"
   ]
  },
  {
   "cell_type": "code",
   "execution_count": 129,
   "metadata": {
    "collapsed": false
   },
   "outputs": [
    {
     "name": "stdout",
     "output_type": "stream",
     "text": [
      "0.0317674488504\n",
      "0.0\n"
     ]
    }
   ],
   "source": [
    "# попробуем проверить - должно получится значение близкое к 0\n",
    "testIn = np.array([0,0,1])\n",
    "testOut = sigmoid(np.dot(testIn,syn0))\n",
    "print(testOut[0])\n",
    "# результат округляем\n",
    "print(round(testOut[0]))"
   ]
  },
  {
   "cell_type": "code",
   "execution_count": 130,
   "metadata": {
    "collapsed": false
   },
   "outputs": [
    {
     "name": "stdout",
     "output_type": "stream",
     "text": [
      "0.979077792394\n",
      "1.0\n"
     ]
    }
   ],
   "source": [
    "# попробуем проверить - должно получится значение близкое к 1\n",
    "testIn = np.array([1,0,1])\n",
    "testOut = sigmoid(np.dot(testIn,syn0))\n",
    "print(testOut[0])\n",
    "# результат округляем\n",
    "print(round(testOut[0]))"
   ]
  }
 ],
 "metadata": {
  "kernelspec": {
   "display_name": "Python 3",
   "language": "python",
   "name": "python3"
  },
  "language_info": {
   "codemirror_mode": {
    "name": "ipython",
    "version": 3
   },
   "file_extension": ".py",
   "mimetype": "text/x-python",
   "name": "python",
   "nbconvert_exporter": "python",
   "pygments_lexer": "ipython3",
   "version": "3.4.3"
  }
 },
 "nbformat": 4,
 "nbformat_minor": 0
}
